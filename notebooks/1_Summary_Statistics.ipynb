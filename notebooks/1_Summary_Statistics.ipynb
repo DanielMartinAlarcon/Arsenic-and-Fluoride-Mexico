{
 "cells": [
  {
   "cell_type": "markdown",
   "metadata": {},
   "source": [
    "# Summary statistics\n",
    "This notebook contains the calculations that produced several overall statistics quoted in the manuscript.  For the code that generated the processed datasets imported here, see the Python scripts in the `src` folder."
   ]
  },
  {
   "cell_type": "code",
   "execution_count": 1,
   "metadata": {},
   "outputs": [],
   "source": [
    "import pandas as pd"
   ]
  },
  {
   "cell_type": "markdown",
   "metadata": {},
   "source": [
    "## Global"
   ]
  },
  {
   "cell_type": "code",
   "execution_count": 2,
   "metadata": {},
   "outputs": [
    {
     "data": {
      "text/plain": [
       "66127985"
      ]
     },
     "execution_count": 2,
     "metadata": {},
     "output_type": "execute_result"
    }
   ],
   "source": [
    "towns = pd.read_csv('../data/processed/towns_with_exposure.csv', index_col=0)\n",
    "# Total population that live within 5 km of a CONAGUA site\n",
    "towns.population.sum()"
   ]
  },
  {
   "cell_type": "code",
   "execution_count": 3,
   "metadata": {},
   "outputs": [
    {
     "data": {
      "text/plain": [
       "0.565196452991453"
      ]
     },
     "execution_count": 3,
     "metadata": {},
     "output_type": "execute_result"
    }
   ],
   "source": [
    "# Total population that live within 5 km of a CONAGUA site, as a fraction\n",
    "# of the total population of Mexico in 2010 (according to Google)\n",
    "towns.population.sum() / 117000000"
   ]
  },
  {
   "cell_type": "markdown",
   "metadata": {},
   "source": [
    "## Arsenic"
   ]
  },
  {
   "cell_type": "code",
   "execution_count": 4,
   "metadata": {},
   "outputs": [],
   "source": [
    "samples = pd.read_csv('../data/processed/samples.csv', index_col=0)"
   ]
  },
  {
   "cell_type": "code",
   "execution_count": 5,
   "metadata": {},
   "outputs": [
    {
     "data": {
      "text/plain": [
       "639"
      ]
     },
     "execution_count": 5,
     "metadata": {},
     "output_type": "execute_result"
    }
   ],
   "source": [
    "# Number of sites with arsenic contamination\n",
    "samples[samples.arsenic > 10].shape[0]"
   ]
  },
  {
   "cell_type": "code",
   "execution_count": 6,
   "metadata": {},
   "outputs": [
    {
     "data": {
      "text/plain": [
       "Well                   325\n",
       "River                  170\n",
       "Lake                    54\n",
       "Dam                     47\n",
       "Discharge               11\n",
       "Drainage                 9\n",
       "Stream                   9\n",
       "Municipal Discharge      4\n",
       "Estuary                  2\n",
       "Canal                    2\n",
       "Lagoon                   2\n",
       "Swamp                    2\n",
       "Temporary Dam            1\n",
       "Spring                   1\n",
       "Name: type, dtype: int64"
      ]
     },
     "execution_count": 6,
     "metadata": {},
     "output_type": "execute_result"
    }
   ],
   "source": [
    "# Contaminated sites by type\n",
    "samples[samples.arsenic > 10].type.value_counts()"
   ]
  },
  {
   "cell_type": "code",
   "execution_count": 7,
   "metadata": {},
   "outputs": [
    {
     "name": "stdout",
     "output_type": "stream",
     "text": [
      "Site Category: Groundwater\n",
      "Total sites: 326\n",
      "Percent of total: 51%\n"
     ]
    }
   ],
   "source": [
    "# Number of groundwater sites\n",
    "total = samples[samples.arsenic > 10]\\\n",
    "        .type.value_counts().sum()\n",
    "\n",
    "sites = samples[samples.arsenic > 10]\\\n",
    "        .type.value_counts()\\\n",
    "        [['Well','Spring']].sum()\n",
    "\n",
    "print(f'Site Category: Groundwater')\n",
    "print(f'Total sites: {sites}')\n",
    "print(f'Percent of total: {sites/total*100:0.0f}%')"
   ]
  },
  {
   "cell_type": "code",
   "execution_count": 8,
   "metadata": {},
   "outputs": [
    {
     "name": "stdout",
     "output_type": "stream",
     "text": [
      "Site Category: Groundwater\n",
      "Total sites: 179\n",
      "Percent of total: 28%\n"
     ]
    }
   ],
   "source": [
    "# Number of river sites\n",
    "total = samples[samples.arsenic > 10]\\\n",
    "        .type.value_counts().sum()\n",
    "\n",
    "sites = samples[samples.arsenic > 10]\\\n",
    "        .type.value_counts()\\\n",
    "        [['River','Stream']].sum()\n",
    "\n",
    "print(f'Site Category: Groundwater')\n",
    "print(f'Total sites: {sites}')\n",
    "print(f'Percent of total: {sites/total*100:0.0f}%')"
   ]
  },
  {
   "cell_type": "code",
   "execution_count": 9,
   "metadata": {},
   "outputs": [
    {
     "name": "stdout",
     "output_type": "stream",
     "text": [
      "Site Category: Discharges\n",
      "Total sites: 15\n",
      "Percent of total: 2%\n"
     ]
    }
   ],
   "source": [
    "# Number of discharge sites\n",
    "total = samples[samples.arsenic > 10]\\\n",
    "        .type.value_counts().sum()\n",
    "\n",
    "sites = samples[samples.arsenic > 10]\\\n",
    "        .type.value_counts()\\\n",
    "        [['Discharge','Municipal Discharge']].sum()\n",
    "\n",
    "print(f'Site Category: Discharges')\n",
    "print(f'Total sites: {sites}')\n",
    "print(f'Percent of total: {sites/total*100:0.0f}%')"
   ]
  },
  {
   "cell_type": "code",
   "execution_count": 10,
   "metadata": {},
   "outputs": [
    {
     "name": "stdout",
     "output_type": "stream",
     "text": [
      "Site Category: Other surface water sites\n",
      "Total sites: 119\n",
      "Percent of total: 19%\n"
     ]
    }
   ],
   "source": [
    "# Number of other surface water sites\n",
    "total = samples[samples.arsenic > 10]\\\n",
    "        .type.value_counts().sum()\n",
    "\n",
    "sites = samples[samples.arsenic > 10]\\\n",
    "        .type.value_counts()\\\n",
    "        [['Lake', 'Dam', 'Drainage',\n",
    "       'Swamp', 'Lagoon', 'Canal', 'Estuary',\n",
    "       'Temporary Dam']].sum()\n",
    "\n",
    "print(f'Site Category: Other surface water sites')\n",
    "print(f'Total sites: {sites}')\n",
    "print(f'Percent of total: {sites/total*100:0.0f}%')"
   ]
  },
  {
   "cell_type": "code",
   "execution_count": 11,
   "metadata": {},
   "outputs": [
    {
     "data": {
      "text/plain": [
       "7263"
      ]
     },
     "execution_count": 11,
     "metadata": {},
     "output_type": "execute_result"
    }
   ],
   "source": [
    "# Number of towns with arsenic exposures above 10 µg/L\n",
    "towns[towns.arsenic > 10].shape[0]"
   ]
  },
  {
   "cell_type": "code",
   "execution_count": 12,
   "metadata": {},
   "outputs": [
    {
     "data": {
      "text/plain": [
       "8807501"
      ]
     },
     "execution_count": 12,
     "metadata": {},
     "output_type": "execute_result"
    }
   ],
   "source": [
    "# Number of people with arsenic exposures above 10 µg/L\n",
    "towns[towns.arsenic > 10].population.sum()"
   ]
  },
  {
   "cell_type": "code",
   "execution_count": 13,
   "metadata": {},
   "outputs": [
    {
     "data": {
      "text/html": [
       "<div>\n",
       "<style scoped>\n",
       "    .dataframe tbody tr th:only-of-type {\n",
       "        vertical-align: middle;\n",
       "    }\n",
       "\n",
       "    .dataframe tbody tr th {\n",
       "        vertical-align: top;\n",
       "    }\n",
       "\n",
       "    .dataframe thead th {\n",
       "        text-align: right;\n",
       "    }\n",
       "</style>\n",
       "<table border=\"1\" class=\"dataframe\">\n",
       "  <thead>\n",
       "    <tr style=\"text-align: right;\">\n",
       "      <th></th>\n",
       "      <th>state</th>\n",
       "      <th>population</th>\n",
       "      <th>cancer_incidence</th>\n",
       "    </tr>\n",
       "  </thead>\n",
       "  <tbody>\n",
       "    <tr>\n",
       "      <th>0</th>\n",
       "      <td>Durango</td>\n",
       "      <td>1174741</td>\n",
       "      <td>3380.955902</td>\n",
       "    </tr>\n",
       "    <tr>\n",
       "      <th>1</th>\n",
       "      <td>Jalisco</td>\n",
       "      <td>619058</td>\n",
       "      <td>2282.907393</td>\n",
       "    </tr>\n",
       "    <tr>\n",
       "      <th>2</th>\n",
       "      <td>Sinaloa</td>\n",
       "      <td>1166453</td>\n",
       "      <td>1246.504198</td>\n",
       "    </tr>\n",
       "    <tr>\n",
       "      <th>3</th>\n",
       "      <td>Chihuahua</td>\n",
       "      <td>1626153</td>\n",
       "      <td>1198.134944</td>\n",
       "    </tr>\n",
       "    <tr>\n",
       "      <th>4</th>\n",
       "      <td>Zacatecas</td>\n",
       "      <td>391704</td>\n",
       "      <td>911.722632</td>\n",
       "    </tr>\n",
       "    <tr>\n",
       "      <th>5</th>\n",
       "      <td>Sonora</td>\n",
       "      <td>1069452</td>\n",
       "      <td>893.702770</td>\n",
       "    </tr>\n",
       "    <tr>\n",
       "      <th>6</th>\n",
       "      <td>Guanajuato</td>\n",
       "      <td>618884</td>\n",
       "      <td>853.783788</td>\n",
       "    </tr>\n",
       "    <tr>\n",
       "      <th>7</th>\n",
       "      <td>Coahuila</td>\n",
       "      <td>712095</td>\n",
       "      <td>722.496184</td>\n",
       "    </tr>\n",
       "    <tr>\n",
       "      <th>8</th>\n",
       "      <td>Oaxaca</td>\n",
       "      <td>523865</td>\n",
       "      <td>443.829518</td>\n",
       "    </tr>\n",
       "    <tr>\n",
       "      <th>9</th>\n",
       "      <td>Hidalgo</td>\n",
       "      <td>32923</td>\n",
       "      <td>203.669132</td>\n",
       "    </tr>\n",
       "    <tr>\n",
       "      <th>10</th>\n",
       "      <td>Nayarit</td>\n",
       "      <td>174985</td>\n",
       "      <td>186.180602</td>\n",
       "    </tr>\n",
       "    <tr>\n",
       "      <th>11</th>\n",
       "      <td>Puebla</td>\n",
       "      <td>162686</td>\n",
       "      <td>135.947475</td>\n",
       "    </tr>\n",
       "    <tr>\n",
       "      <th>12</th>\n",
       "      <td>Guerrero</td>\n",
       "      <td>127196</td>\n",
       "      <td>114.613238</td>\n",
       "    </tr>\n",
       "    <tr>\n",
       "      <th>13</th>\n",
       "      <td>Michoacán</td>\n",
       "      <td>68465</td>\n",
       "      <td>114.167091</td>\n",
       "    </tr>\n",
       "    <tr>\n",
       "      <th>14</th>\n",
       "      <td>México</td>\n",
       "      <td>77468</td>\n",
       "      <td>113.337184</td>\n",
       "    </tr>\n",
       "    <tr>\n",
       "      <th>15</th>\n",
       "      <td>Aguascalientes</td>\n",
       "      <td>104224</td>\n",
       "      <td>104.664652</td>\n",
       "    </tr>\n",
       "    <tr>\n",
       "      <th>16</th>\n",
       "      <td>San Luis Potosí</td>\n",
       "      <td>78426</td>\n",
       "      <td>89.234985</td>\n",
       "    </tr>\n",
       "    <tr>\n",
       "      <th>17</th>\n",
       "      <td>Querétaro</td>\n",
       "      <td>61810</td>\n",
       "      <td>50.015766</td>\n",
       "    </tr>\n",
       "    <tr>\n",
       "      <th>18</th>\n",
       "      <td>Quintana Roo</td>\n",
       "      <td>6747</td>\n",
       "      <td>11.084088</td>\n",
       "    </tr>\n",
       "    <tr>\n",
       "      <th>19</th>\n",
       "      <td>Baja California Sur</td>\n",
       "      <td>4761</td>\n",
       "      <td>7.761971</td>\n",
       "    </tr>\n",
       "    <tr>\n",
       "      <th>20</th>\n",
       "      <td>Tabasco</td>\n",
       "      <td>3562</td>\n",
       "      <td>4.543473</td>\n",
       "    </tr>\n",
       "    <tr>\n",
       "      <th>21</th>\n",
       "      <td>Tlaxcala</td>\n",
       "      <td>952</td>\n",
       "      <td>0.696652</td>\n",
       "    </tr>\n",
       "    <tr>\n",
       "      <th>22</th>\n",
       "      <td>Nuevo León</td>\n",
       "      <td>651</td>\n",
       "      <td>0.330565</td>\n",
       "    </tr>\n",
       "    <tr>\n",
       "      <th>23</th>\n",
       "      <td>Morelos</td>\n",
       "      <td>215</td>\n",
       "      <td>0.308494</td>\n",
       "    </tr>\n",
       "    <tr>\n",
       "      <th>24</th>\n",
       "      <td>Baja California</td>\n",
       "      <td>25</td>\n",
       "      <td>0.019430</td>\n",
       "    </tr>\n",
       "  </tbody>\n",
       "</table>\n",
       "</div>"
      ],
      "text/plain": [
       "                  state  population  cancer_incidence\n",
       "0               Durango     1174741       3380.955902\n",
       "1               Jalisco      619058       2282.907393\n",
       "2               Sinaloa     1166453       1246.504198\n",
       "3             Chihuahua     1626153       1198.134944\n",
       "4             Zacatecas      391704        911.722632\n",
       "5                Sonora     1069452        893.702770\n",
       "6            Guanajuato      618884        853.783788\n",
       "7              Coahuila      712095        722.496184\n",
       "8                Oaxaca      523865        443.829518\n",
       "9               Hidalgo       32923        203.669132\n",
       "10              Nayarit      174985        186.180602\n",
       "11               Puebla      162686        135.947475\n",
       "12             Guerrero      127196        114.613238\n",
       "13            Michoacán       68465        114.167091\n",
       "14               México       77468        113.337184\n",
       "15       Aguascalientes      104224        104.664652\n",
       "16      San Luis Potosí       78426         89.234985\n",
       "17            Querétaro       61810         50.015766\n",
       "18         Quintana Roo        6747         11.084088\n",
       "19  Baja California Sur        4761          7.761971\n",
       "20              Tabasco        3562          4.543473\n",
       "21             Tlaxcala         952          0.696652\n",
       "22           Nuevo León         651          0.330565\n",
       "23              Morelos         215          0.308494\n",
       "24      Baja California          25          0.019430"
      ]
     },
     "execution_count": 13,
     "metadata": {},
     "output_type": "execute_result"
    }
   ],
   "source": [
    "# Table 1.\n",
    "# Population exposed to arsenic above 10 µg/L, and the expected\n",
    "# cancer incidence associated with that exposure, by state.\n",
    "summary_arsenic = pd.read_csv('../data/processed/summary_arsenic.csv', index_col=0)\n",
    "summary_arsenic"
   ]
  },
  {
   "cell_type": "code",
   "execution_count": 14,
   "metadata": {},
   "outputs": [
    {
     "data": {
      "text/plain": [
       "population          8807501\n",
       "cancer_incidence    13070.6\n",
       "dtype: object"
      ]
     },
     "execution_count": 14,
     "metadata": {},
     "output_type": "execute_result"
    }
   ],
   "source": [
    "# Population exposed to arsenic above 10 µg/L, and the expected\n",
    "# cancer incidence associated with that exposure, totals\n",
    "summary_arsenic.sum()[1:3]"
   ]
  },
  {
   "cell_type": "markdown",
   "metadata": {},
   "source": [
    "## Fluoride"
   ]
  },
  {
   "cell_type": "code",
   "execution_count": 15,
   "metadata": {},
   "outputs": [
    {
     "data": {
      "text/plain": [
       "184"
      ]
     },
     "execution_count": 15,
     "metadata": {},
     "output_type": "execute_result"
    }
   ],
   "source": [
    "# Number of sites with fluoride contamination\n",
    "samples[samples.fluoride > 1500].shape[0]"
   ]
  },
  {
   "cell_type": "code",
   "execution_count": 16,
   "metadata": {},
   "outputs": [
    {
     "data": {
      "text/plain": [
       "Well      181\n",
       "Spring      3\n",
       "Name: type, dtype: int64"
      ]
     },
     "execution_count": 16,
     "metadata": {},
     "output_type": "execute_result"
    }
   ],
   "source": [
    "# Contaminated sites by type\n",
    "samples[samples.fluoride > 1500].type.value_counts()"
   ]
  },
  {
   "cell_type": "code",
   "execution_count": 17,
   "metadata": {},
   "outputs": [
    {
     "data": {
      "text/plain": [
       "2726"
      ]
     },
     "execution_count": 17,
     "metadata": {},
     "output_type": "execute_result"
    }
   ],
   "source": [
    "# Number of towns with fluoride exposures above 1500 µg/L\n",
    "towns[towns.fluoride > 1500].shape[0]"
   ]
  },
  {
   "cell_type": "code",
   "execution_count": 18,
   "metadata": {},
   "outputs": [
    {
     "data": {
      "text/plain": [
       "3054168"
      ]
     },
     "execution_count": 18,
     "metadata": {},
     "output_type": "execute_result"
    }
   ],
   "source": [
    "# Number of people with fluoride exposures above 1500 µg/L\n",
    "towns[towns.fluoride > 1500].population.sum()"
   ]
  },
  {
   "cell_type": "code",
   "execution_count": 19,
   "metadata": {},
   "outputs": [
    {
     "data": {
      "text/html": [
       "<div>\n",
       "<style scoped>\n",
       "    .dataframe tbody tr th:only-of-type {\n",
       "        vertical-align: middle;\n",
       "    }\n",
       "\n",
       "    .dataframe tbody tr th {\n",
       "        vertical-align: top;\n",
       "    }\n",
       "\n",
       "    .dataframe thead th {\n",
       "        text-align: right;\n",
       "    }\n",
       "</style>\n",
       "<table border=\"1\" class=\"dataframe\">\n",
       "  <thead>\n",
       "    <tr style=\"text-align: right;\">\n",
       "      <th></th>\n",
       "      <th>state</th>\n",
       "      <th>population</th>\n",
       "    </tr>\n",
       "  </thead>\n",
       "  <tbody>\n",
       "    <tr>\n",
       "      <th>0</th>\n",
       "      <td>San Luis Potosí</td>\n",
       "      <td>772124</td>\n",
       "    </tr>\n",
       "    <tr>\n",
       "      <th>1</th>\n",
       "      <td>Durango</td>\n",
       "      <td>634753</td>\n",
       "    </tr>\n",
       "    <tr>\n",
       "      <th>2</th>\n",
       "      <td>Zacatecas</td>\n",
       "      <td>165624</td>\n",
       "    </tr>\n",
       "    <tr>\n",
       "      <th>3</th>\n",
       "      <td>Guanajuato</td>\n",
       "      <td>133703</td>\n",
       "    </tr>\n",
       "    <tr>\n",
       "      <th>4</th>\n",
       "      <td>Jalisco</td>\n",
       "      <td>91556</td>\n",
       "    </tr>\n",
       "    <tr>\n",
       "      <th>5</th>\n",
       "      <td>Michoacán</td>\n",
       "      <td>86878</td>\n",
       "    </tr>\n",
       "    <tr>\n",
       "      <th>6</th>\n",
       "      <td>Chihuahua</td>\n",
       "      <td>81933</td>\n",
       "    </tr>\n",
       "    <tr>\n",
       "      <th>7</th>\n",
       "      <td>Hidalgo</td>\n",
       "      <td>45725</td>\n",
       "    </tr>\n",
       "    <tr>\n",
       "      <th>8</th>\n",
       "      <td>Sonora</td>\n",
       "      <td>22428</td>\n",
       "    </tr>\n",
       "    <tr>\n",
       "      <th>9</th>\n",
       "      <td>Querétaro</td>\n",
       "      <td>18861</td>\n",
       "    </tr>\n",
       "    <tr>\n",
       "      <th>10</th>\n",
       "      <td>Aguascalientes</td>\n",
       "      <td>10961</td>\n",
       "    </tr>\n",
       "    <tr>\n",
       "      <th>11</th>\n",
       "      <td>Coahuila</td>\n",
       "      <td>4133</td>\n",
       "    </tr>\n",
       "    <tr>\n",
       "      <th>12</th>\n",
       "      <td>Tamaulipas</td>\n",
       "      <td>3056</td>\n",
       "    </tr>\n",
       "  </tbody>\n",
       "</table>\n",
       "</div>"
      ],
      "text/plain": [
       "              state  population\n",
       "0   San Luis Potosí      772124\n",
       "1           Durango      634753\n",
       "2         Zacatecas      165624\n",
       "3        Guanajuato      133703\n",
       "4           Jalisco       91556\n",
       "5         Michoacán       86878\n",
       "6         Chihuahua       81933\n",
       "7           Hidalgo       45725\n",
       "8            Sonora       22428\n",
       "9         Querétaro       18861\n",
       "10   Aguascalientes       10961\n",
       "11         Coahuila        4133\n",
       "12       Tamaulipas        3056"
      ]
     },
     "execution_count": 19,
     "metadata": {},
     "output_type": "execute_result"
    }
   ],
   "source": [
    "# Table 2.\n",
    "# Population exposed to fluoride above 0.06 mg/(kg * day), \n",
    "# considered to be the limit above which significant \n",
    "# health effects begin\n",
    "summary_fluoride = pd.read_csv('../data/processed/summary_fluoride.csv', index_col=0)\n",
    "summary_fluoride"
   ]
  },
  {
   "cell_type": "code",
   "execution_count": 20,
   "metadata": {
    "scrolled": true
   },
   "outputs": [
    {
     "data": {
      "text/plain": [
       "population    2071735\n",
       "dtype: object"
      ]
     },
     "execution_count": 20,
     "metadata": {},
     "output_type": "execute_result"
    }
   ],
   "source": [
    "# Total population exposed to fluoride above 0.06 mg/(kg * day)\n",
    "summary_fluoride.sum()[1:2]"
   ]
  }
 ],
 "metadata": {
  "kernelspec": {
   "display_name": "Python 3",
   "language": "python",
   "name": "python3"
  },
  "language_info": {
   "codemirror_mode": {
    "name": "ipython",
    "version": 3
   },
   "file_extension": ".py",
   "mimetype": "text/x-python",
   "name": "python",
   "nbconvert_exporter": "python",
   "pygments_lexer": "ipython3",
   "version": "3.7.3"
  }
 },
 "nbformat": 4,
 "nbformat_minor": 2
}
